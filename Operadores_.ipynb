{
  "nbformat": 4,
  "nbformat_minor": 0,
  "metadata": {
    "colab": {
      "provenance": [],
      "authorship_tag": "ABX9TyMzd3KFB5BxM09tyPi7FzrR",
      "include_colab_link": true
    },
    "kernelspec": {
      "name": "python3",
      "display_name": "Python 3"
    },
    "language_info": {
      "name": "python"
    }
  },
  "cells": [
    {
      "cell_type": "markdown",
      "metadata": {
        "id": "view-in-github",
        "colab_type": "text"
      },
      "source": [
        "<a href=\"https://colab.research.google.com/github/gustavovieirax/APW/blob/main/Operadores_.ipynb\" target=\"_parent\"><img src=\"https://colab.research.google.com/assets/colab-badge.svg\" alt=\"Open In Colab\"/></a>"
      ]
    },
    {
      "cell_type": "markdown",
      "source": [
        "**IMPAR OU PAR**"
      ],
      "metadata": {
        "id": "JRbZqo49znT8"
      }
    },
    {
      "cell_type": "code",
      "source": [
        "#entrada\n",
        "\n",
        "valor = int(input('O seu número é par ou impar? : '))\n",
        "\n",
        "#processamento\n",
        "\n",
        "par = (valor%2) == 0\n",
        "impar = (valor%2) == 1\n",
        "\n",
        "print(f'Seu número é par {par}')\n",
        "print(f'Seu número é impar  {impar}')\n"
      ],
      "metadata": {
        "colab": {
          "base_uri": "https://localhost:8080/"
        },
        "id": "Mhz_q8RMzsNr",
        "outputId": "c9b2a04c-2cee-4148-bdb0-59926c761517"
      },
      "execution_count": null,
      "outputs": [
        {
          "output_type": "stream",
          "name": "stdout",
          "text": [
            "O seu número é par ou impar? : 5\n",
            "Seu número é par False\n",
            "Seu número é impar  True\n"
          ]
        }
      ]
    },
    {
      "cell_type": "markdown",
      "source": [
        "**TRIANGULO**\n",
        "\n"
      ],
      "metadata": {
        "id": "bf0udKz31buL"
      }
    },
    {
      "cell_type": "code",
      "source": [
        "#entrada\n",
        "L1 = float(input(\"digite o primeiro lado\"))\n",
        "L2 = float(input(\"digite o segundo lado\"))\n",
        "L3 = float(input(\"digite o terceiro lado\"))\n",
        "\n",
        "#processamento\n",
        "triangulo = (L1+L2>L3) and (L1+L3>L2) and (L2+L3>L1)\n",
        "equilatero = (L1==L2==L3)\n",
        "isoceles = (L1 == L2 or L1 == L3 or L2 == L3)\n",
        "escaleno = (L1!=L2!=L3)\n",
        "\n",
        "#saída\n",
        "print(\"é um triângulo?\",triangulo)\n",
        "print(\"é um triângulo equilátero?\",equilatero)\n",
        "print(\"é um triângulo isósceles?\",isoceles)\n",
        "print(\"é um triângulo escaleno?\",escaleno)"
      ],
      "metadata": {
        "id": "Pup9EO_XAZGP",
        "collapsed": true
      },
      "execution_count": null,
      "outputs": []
    },
    {
      "cell_type": "markdown",
      "source": [
        "**EXERCICIO 3 - IMC**\n"
      ],
      "metadata": {
        "id": "x4EGrKyLKaYh"
      }
    },
    {
      "cell_type": "code",
      "source": [
        "peso = int(input('Digite seu peso... '))\n",
        "\n",
        "altura = int(Input('Digite a a sua altura... '))\n",
        "\n",
        "imc = (peso/altura)**2"
      ],
      "metadata": {
        "colab": {
          "base_uri": "https://localhost:8080/",
          "height": 228
        },
        "id": "hf0Ni3ShKffP",
        "outputId": "6afe306b-7c9e-4fbb-e183-fd88fab13d27"
      },
      "execution_count": 11,
      "outputs": [
        {
          "name": "stdout",
          "output_type": "stream",
          "text": [
            "Digite seu peso... 90\n"
          ]
        },
        {
          "output_type": "error",
          "ename": "NameError",
          "evalue": "name 'Input' is not defined",
          "traceback": [
            "\u001b[0;31m---------------------------------------------------------------------------\u001b[0m",
            "\u001b[0;31mNameError\u001b[0m                                 Traceback (most recent call last)",
            "\u001b[0;32m<ipython-input-11-1643bd9da227>\u001b[0m in \u001b[0;36m<cell line: 0>\u001b[0;34m()\u001b[0m\n\u001b[1;32m      1\u001b[0m \u001b[0mpeso\u001b[0m \u001b[0;34m=\u001b[0m \u001b[0mint\u001b[0m\u001b[0;34m(\u001b[0m\u001b[0minput\u001b[0m\u001b[0;34m(\u001b[0m\u001b[0;34m'Digite seu peso... '\u001b[0m\u001b[0;34m)\u001b[0m\u001b[0;34m)\u001b[0m\u001b[0;34m\u001b[0m\u001b[0;34m\u001b[0m\u001b[0m\n\u001b[1;32m      2\u001b[0m \u001b[0;34m\u001b[0m\u001b[0m\n\u001b[0;32m----> 3\u001b[0;31m \u001b[0maltura\u001b[0m \u001b[0;34m=\u001b[0m \u001b[0mint\u001b[0m\u001b[0;34m(\u001b[0m\u001b[0mInput\u001b[0m\u001b[0;34m(\u001b[0m\u001b[0;34m'Digite a a sua altura... '\u001b[0m\u001b[0;34m)\u001b[0m\u001b[0;34m)\u001b[0m\u001b[0;34m\u001b[0m\u001b[0;34m\u001b[0m\u001b[0m\n\u001b[0m\u001b[1;32m      4\u001b[0m \u001b[0;34m\u001b[0m\u001b[0m\n\u001b[1;32m      5\u001b[0m \u001b[0mimc\u001b[0m \u001b[0;34m=\u001b[0m \u001b[0;34m(\u001b[0m\u001b[0mpeso\u001b[0m\u001b[0;34m/\u001b[0m\u001b[0maltura\u001b[0m\u001b[0;34m)\u001b[0m\u001b[0;34m**\u001b[0m\u001b[0;36m2\u001b[0m\u001b[0;34m\u001b[0m\u001b[0;34m\u001b[0m\u001b[0m\n",
            "\u001b[0;31mNameError\u001b[0m: name 'Input' is not defined"
          ]
        }
      ]
    },
    {
      "cell_type": "markdown",
      "source": [
        "**IMC - EXERCICIO 3**"
      ],
      "metadata": {
        "id": "a3TSL81r6vb6"
      }
    },
    {
      "cell_type": "code",
      "source": [
        "peso = int(input('Digite seu peso... '))\n",
        "altura = int(input('Digite a sua altura... '))\n",
        "\n",
        "imc = int (peso/altura**2)\n",
        "\n",
        "abaixo_peso == <18.5\n",
        "peso_normal\n",
        "\n",
        "print(imc)"
      ],
      "metadata": {
        "colab": {
          "base_uri": "https://localhost:8080/"
        },
        "id": "xPd9v35M6yxa",
        "outputId": "1d7e909a-7c71-4605-c740-f7d7fcf60849"
      },
      "execution_count": 20,
      "outputs": [
        {
          "output_type": "stream",
          "name": "stdout",
          "text": [
            "Digite seu peso... 80\n",
            "Digite a sua altura... 190\n",
            "0\n"
          ]
        }
      ]
    }
  ]
}